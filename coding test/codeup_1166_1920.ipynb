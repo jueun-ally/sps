{
 "cells": [
  {
   "cell_type": "code",
   "execution_count": 7,
   "metadata": {},
   "outputs": [
    {
     "name": "stdout",
     "output_type": "stream",
     "text": [
      "3\n",
      "2\n",
      "3\n",
      "1\n"
     ]
    }
   ],
   "source": [
    "n = int(input())\n",
    "n_list = []\n",
    "\n",
    "for i in range(1, n+1) :\n",
    "    n_list.append(i)\n",
    "\n",
    "for i in range(n-1) :\n",
    "    x = int(input())\n",
    "    n_list.remove(x) # 리스트 요소 제거\n",
    "\n",
    "print(n_list[0])"
   ]
  },
  {
   "cell_type": "code",
   "execution_count": 11,
   "metadata": {},
   "outputs": [
    {
     "name": "stdout",
     "output_type": "stream",
     "text": [
      "3\n"
     ]
    },
    {
     "data": {
      "text/plain": [
       "[[0, 1, 0], [0, 0, 0], [0, 0, 0]]"
      ]
     },
     "execution_count": 11,
     "metadata": {},
     "output_type": "execute_result"
    }
   ],
   "source": [
    "n = int(input())\n",
    "m = [[0 for i in range(n)] for i in range(n)]\n",
    "sx = 0\n",
    "sy = int(n/2)\n",
    "m[sx][sy] = 1\n",
    "x = 0\n",
    "y = 0\n",
    "for i in range(2, n*n+1) :\n",
    "    x = sx\n",
    "    y = sy\n",
    "    sx -= 1\n",
    "    sy += 1\n",
    "    if sx < 0 :\n",
    "        sx = n-1\n",
    "    if sy > n-1 :\n",
    "        sy = 0\n",
    "    if m[sx][sy] == 0 :\n",
    "        m[sx][sy] = i\n",
    "    else :\n",
    "        sx = x+1\n",
    "        sy = y\n",
    "        m[sx][sy] = i\n",
    "for i in range(n) :\n",
    "    for j in range(n) :\n",
    "        print('%d' %m[i][j], end=' ') # d : 숫자\n",
    "    print()"
   ]
  },
  {
   "cell_type": "code",
   "execution_count": null,
   "metadata": {},
   "outputs": [],
   "source": [
    "n, m = map(int, input().split())\n",
    "m_path = []\n",
    "l = []\n",
    "for n in range(n, m+1) :\n",
    "    i = n\n",
    "    path = 1\n",
    "    while n !=1 :\n",
    "        if n%2 == 1 :\n",
    "            n = 3*n+1\n",
    "            path += 1\n",
    "        else :\n",
    "            n = n/2\n",
    "            path += 1\n",
    "    m_path.append(path)\n",
    "    l.append(i)\n",
    "idx = m_path.index(max(m_path))\n",
    "print(l.pop(idx), max(m_path)) # pop : 리스트 요소 추출"
   ]
  }
 ],
 "metadata": {
  "kernelspec": {
   "display_name": "Python 3",
   "language": "python",
   "name": "python3"
  },
  "language_info": {
   "codemirror_mode": {
    "name": "ipython",
    "version": 3
   },
   "file_extension": ".py",
   "mimetype": "text/x-python",
   "name": "python",
   "nbconvert_exporter": "python",
   "pygments_lexer": "ipython3",
   "version": "3.8.3"
  }
 },
 "nbformat": 4,
 "nbformat_minor": 4
}
