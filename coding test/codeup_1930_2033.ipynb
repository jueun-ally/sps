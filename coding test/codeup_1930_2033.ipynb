{
 "cells": [
  {
   "cell_type": "code",
   "execution_count": null,
   "id": "18d66fc4",
   "metadata": {},
   "outputs": [],
   "source": [
    "# 1930\n",
    "\n",
    "import sys\n",
    "\n",
    "temp = []\n",
    "for line in sys.stdin : # sys.stdin : 여러 줄 입력받음\n",
    "    k, n = map(int, line.split())\n",
    "    arr1 = [[-1 for i in range(n+1)]for i in range(k+1)]\n",
    "    \n",
    "    def supersum(k, n) :\n",
    "        if k == 0 :\n",
    "            arr1[0][n] = n\n",
    "            return n\n",
    "        \n",
    "        if arr1[k][n] == -1 :\n",
    "            result = 0\n",
    "            for i in range(1, n+1) :\n",
    "                result += supersum(k-1, i)\n",
    "            arr1[k][n] = result\n",
    "            return result\n",
    "        else :\n",
    "            return arr1[k][n]\n",
    "    \n",
    "    temp.append(supersum(k, n))\n",
    "    \n",
    "for i in range(len(temp)) :\n",
    "    print(temp[i])"
   ]
  },
  {
   "cell_type": "code",
   "execution_count": null,
   "id": "d2f1cfcd",
   "metadata": {},
   "outputs": [],
   "source": [
    "# 2007\n",
    "\n",
    "n = int(input())\n",
    "a = input().split()\n",
    "b = []\n",
    "result = 0\n",
    "for i in a :\n",
    "    b.append(int(i))\n",
    "for i in range(len(b)-1) :\n",
    "    if b[i] < b[i+1] :\n",
    "        result += 1\n",
    "    elif b[i] > b[i+1] :\n",
    "        result -= 1\n",
    "if result == n-1 :\n",
    "    print('오름차순')\n",
    "elif result == -n+1 :\n",
    "    print('내림차순')\n",
    "else :\n",
    "    print('섞임')"
   ]
  },
  {
   "cell_type": "code",
   "execution_count": null,
   "id": "d9b45a03",
   "metadata": {},
   "outputs": [],
   "source": [
    "# 2008\n",
    "\n",
    "n = int(input())\n",
    "a = input().split()\n",
    "b = []\n",
    "result = 0\n",
    "for i in a :\n",
    "    b.append(int(i))\n",
    "for i in range(len(b)-1) :\n",
    "    if b[i] == b[i+1] :\n",
    "        pass\n",
    "    elif b[i] < b[i+1] :\n",
    "        result += 101\n",
    "    elif b[i] > b[i+1] :\n",
    "        result += 103\n",
    "if result == 0 :\n",
    "    print('섞임')\n",
    "elif result%101 == 0 :\n",
    "    print('오름차순')\n",
    "elif result%103 == 0 :\n",
    "    print('내림차순')\n",
    "else :\n",
    "    print('섞임')"
   ]
  },
  {
   "cell_type": "code",
   "execution_count": null,
   "id": "02f6890b",
   "metadata": {},
   "outputs": [],
   "source": [
    "# 2009\n",
    "\n",
    "h, g = map(int, input().split())\n",
    "count = 0\n",
    "x = h\n",
    "if h == g :\n",
    "    count = 1\n",
    "else :\n",
    "    for i in range(1, h) :\n",
    "        if x >= g :\n",
    "            count = count+1\n",
    "            x = h-g+1\n",
    "            h = x\n",
    "        else :\n",
    "            break\n",
    "print(count)"
   ]
  },
  {
   "cell_type": "code",
   "execution_count": null,
   "id": "b7369fe5",
   "metadata": {},
   "outputs": [],
   "source": [
    "# 2016\n",
    "\n",
    "n = int(input())\n",
    "a = int(input())\n",
    "print(format(a, ',')) # format(,',') : 천 단위 쉼표"
   ]
  },
  {
   "cell_type": "code",
   "execution_count": null,
   "id": "189a5231",
   "metadata": {},
   "outputs": [],
   "source": [
    "# 2033\n",
    "\n",
    "k, n = map(int, input().split())\n",
    "a = []\n",
    "for i in range(n) :\n",
    "    a.append([map(int, input().split())])\n",
    "p = int(input())\n",
    "for i in range(n) :\n",
    "    a[][]"
   ]
  }
 ],
 "metadata": {
  "kernelspec": {
   "display_name": "Python 3 (ipykernel)",
   "language": "python",
   "name": "python3"
  },
  "language_info": {
   "codemirror_mode": {
    "name": "ipython",
    "version": 3
   },
   "file_extension": ".py",
   "mimetype": "text/x-python",
   "name": "python",
   "nbconvert_exporter": "python",
   "pygments_lexer": "ipython3",
   "version": "3.9.7"
  }
 },
 "nbformat": 4,
 "nbformat_minor": 5
}
