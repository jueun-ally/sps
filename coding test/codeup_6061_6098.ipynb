{
 "cells": [
  {
   "cell_type": "code",
   "execution_count": 11,
   "id": "446dad78",
   "metadata": {},
   "outputs": [
    {
     "name": "stdout",
     "output_type": "stream",
     "text": [
      "6\n",
      "notwinter\n"
     ]
    }
   ],
   "source": [
    "a = int(input())\n",
    "if a in [12,1,2] :\n",
    "    print('winter')\n",
    "else :\n",
    "    print('notwinter')"
   ]
  },
  {
   "cell_type": "code",
   "execution_count": null,
   "id": "4beae140",
   "metadata": {},
   "outputs": [],
   "source": [
    "n = 1\n",
    "while n != 0 : # n이 0이 되지 않는 이상 계속 돌아감\n",
    "    n = int(input())\n",
    "    if n != 0 :\n",
    "        print(n)"
   ]
  },
  {
   "cell_type": "code",
   "execution_count": 5,
   "id": "c16a8f58",
   "metadata": {},
   "outputs": [
    {
     "name": "stdout",
     "output_type": "stream",
     "text": [
      "c\n",
      "a b c "
     ]
    }
   ],
   "source": [
    "k = ord(input())\n",
    "a = ord('a')\n",
    "while a <= k :\n",
    "    print(chr(a), end=' ') # 값 출력 후 공백 문자 출력(줄 바뀌지 않음)\n",
    "    a += 1"
   ]
  },
  {
   "cell_type": "code",
   "execution_count": null,
   "id": "ccfb6bf8",
   "metadata": {},
   "outputs": [],
   "source": [
    "n = int(input(),16)\n",
    "for i in range(1, 16) :\n",
    "    print('%X'%n, '*%X'%i, '=%X'%(n*i), sep='') # '%X'%n : n을 16진수 형태로 출력"
   ]
  },
  {
   "cell_type": "code",
   "execution_count": null,
   "id": "8cfbbed4",
   "metadata": {},
   "outputs": [],
   "source": [
    "n = int(input())\n",
    "for i in range(1, n+1) :\n",
    "    if i%3==0:\n",
    "        continue # 다음 반복 단계로 넘어감\n",
    "    print(i, end=' ')"
   ]
  }
 ],
 "metadata": {
  "kernelspec": {
   "display_name": "Python 3 (ipykernel)",
   "language": "python",
   "name": "python3"
  },
  "language_info": {
   "codemirror_mode": {
    "name": "ipython",
    "version": 3
   },
   "file_extension": ".py",
   "mimetype": "text/x-python",
   "name": "python",
   "nbconvert_exporter": "python",
   "pygments_lexer": "ipython3",
   "version": "3.9.7"
  }
 },
 "nbformat": 4,
 "nbformat_minor": 5
}
